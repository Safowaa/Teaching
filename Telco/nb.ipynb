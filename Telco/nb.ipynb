{
 "cells": [
  {
   "cell_type": "code",
   "execution_count": null,
   "metadata": {
    "vscode": {
     "languageId": "plaintext"
    }
   },
   "outputs": [],
   "source": [
    "# Importing standard libraries\n",
    "import os\n",
    "import warnings\n",
    "\n",
    "# Importing third-party libraries\n",
    "import pandas as pd\n",
    "import numpy as np\n",
    "import matplotlib.pyplot as plt\n",
    "import seaborn as sns\n",
    "\n",
    "\n",
    "\n",
    "import matplotlib.pyplot as plt\n",
    "import seaborn as sns\n",
    "from sklearn.preprocessing import OneHotEncoder, StandardScaler, FunctionTransformer\n",
    "from scipy.stats import skew, kurtosis, ttest_ind\n",
    "from sklearn.preprocessing import StandardScaler, OneHotEncoder\n",
    "from sklearn.compose import ColumnTransformer\n",
    "from sklearn.pipeline import Pipeline\n",
    "from sklearn.impute import SimpleImputer\n",
    "from sklearn.model_selection import train_test_split, cross_val_score, GridSearchCV\n",
    "from sklearn.ensemble import RandomForestClassifier\n",
    "from sklearn.linear_model import LogisticRegression\n",
    "from sklearn.neighbors import KNeighborsClassifier\n",
    "from sklearn.svm import SVC\n",
    "from sklearn.tree import DecisionTreeClassifier\n",
    "from sklearn.metrics import (\n",
    "    confusion_matrix,\n",
    "    mean_squared_error,\n",
    "    mean_squared_log_error,\n",
    "    r2_score,\n",
    "    classification_report,\n",
    "    accuracy_score,\n",
    "    roc_auc_score\n",
    ")\n",
    "import joblib\n",
    "from dotenv import dotenv_values\n",
    "import pyodbc  # Database connection, use only if needed\n",
    "import requests  # HTTP requests, use only if needed\n",
    "\n",
    "# Configure Pandas display options for better readability\n",
    "pd.set_option(\"display.max_rows\", 100)\n",
    "pd.set_option(\"display.max_columns\", 100)\n",
    "\n",
    "# Selectively suppress specific warnings instead of all warnings\n",
    "warnings.filterwarnings(\"ignore\", category=DeprecationWarning)\n",
    "\n",
    "# Set up visualization style\n",
    "sns.set(style=\"whitegrid\")\n",
    "plt.style.use(\"ggplot\")\n"
   ]
  }
 ],
 "metadata": {
  "language_info": {
   "name": "python"
  }
 },
 "nbformat": 4,
 "nbformat_minor": 2
}
